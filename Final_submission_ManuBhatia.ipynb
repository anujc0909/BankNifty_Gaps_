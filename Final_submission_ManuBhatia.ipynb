{
 "cells": [
  {
   "cell_type": "markdown",
   "id": "465f3712",
   "metadata": {},
   "source": [
    "## Ideology for the heatmap and its data being that, by just the Gap Up/Down information we can refer to these scenearios and set statistical limits for a varity of difference cases.\n",
    "### I tried multiple different types of graphs, (area, waterfall, etc). Heat map was better representing the type of classification i had in mind"
   ]
  },
  {
   "cell_type": "code",
   "execution_count": 3123,
   "id": "b3ab661f",
   "metadata": {},
   "outputs": [],
   "source": [
    "#Vectorized back testing of VOL strat\n",
    "#importing libraries to download, manipulate, and store data.\n",
    "import pandas as pd\n",
    "import yfinance as yf\n",
    "import numpy as np\n",
    "import matplotlib.pyplot as plt\n",
    "import seaborn as sns\n",
    "import time as time\n",
    "import datetime as dt\n",
    "%matplotlib inline\n",
    "\n"
   ]
  },
  {
   "cell_type": "code",
   "execution_count": null,
   "id": "9fc92226",
   "metadata": {},
   "outputs": [],
   "source": []
  },
  {
   "cell_type": "code",
   "execution_count": 3128,
   "id": "142d4dba",
   "metadata": {},
   "outputs": [
    {
     "data": {
      "text/plain": [
       "<AxesSubplot:>"
      ]
     },
     "execution_count": 3128,
     "metadata": {},
     "output_type": "execute_result"
    },
    {
     "data": {
      "image/png": "[encoded data removed]",
      "text/plain": [
       "<Figure size 432x288 with 1 Axes>"
      ]
     },
     "metadata": {
      "needs_background": "light"
     },
     "output_type": "display_data"
    }
   ],
   "source": [
    "#Creating copy of DataFrame\n",
    "hdc = pd.read_csv(r'D:\\Downloads\\bnf_daily_clean.csv')\n",
    "hdc['c'].plot()"
   ]
  },
  {
   "cell_type": "code",
   "execution_count": 3129,
   "id": "b49fdbb0",
   "metadata": {},
   "outputs": [
    {
     "data": {
      "text/html": [
       "<div>\n",
       "<style scoped>\n",
       "    .dataframe tbody tr th:only-of-type {\n",
       "        vertical-align: middle;\n",
       "    }\n",
       "\n",
       "    .dataframe tbody tr th {\n",
       "        vertical-align: top;\n",
       "    }\n",
       "\n",
       "    .dataframe thead th {\n",
       "        text-align: right;\n",
       "    }\n",
       "</style>\n",
       "<table border=\"1\" class=\"dataframe\">\n",
       "  <thead>\n",
       "    <tr style=\"text-align: right;\">\n",
       "      <th></th>\n",
       "      <th>instrument</th>\n",
       "      <th>date</th>\n",
       "      <th>o</th>\n",
       "      <th>h</th>\n",
       "      <th>l</th>\n",
       "      <th>c</th>\n",
       "      <th>v</th>\n",
       "    </tr>\n",
       "  </thead>\n",
       "  <tbody>\n",
       "    <tr>\n",
       "      <th>0</th>\n",
       "      <td>NIFTY BANK</td>\n",
       "      <td>09-06-2005</td>\n",
       "      <td>3659.80</td>\n",
       "      <td>3664.45</td>\n",
       "      <td>3609.75</td>\n",
       "      <td>3636.50</td>\n",
       "      <td>0</td>\n",
       "    </tr>\n",
       "    <tr>\n",
       "      <th>1</th>\n",
       "      <td>NIFTY BANK</td>\n",
       "      <td>10-06-2005</td>\n",
       "      <td>3640.05</td>\n",
       "      <td>3665.80</td>\n",
       "      <td>3585.80</td>\n",
       "      <td>3593.55</td>\n",
       "      <td>0</td>\n",
       "    </tr>\n",
       "    <tr>\n",
       "      <th>2</th>\n",
       "      <td>NIFTY BANK</td>\n",
       "      <td>13-06-2005</td>\n",
       "      <td>3593.90</td>\n",
       "      <td>3648.40</td>\n",
       "      <td>3556.70</td>\n",
       "      <td>3642.90</td>\n",
       "      <td>0</td>\n",
       "    </tr>\n",
       "    <tr>\n",
       "      <th>3</th>\n",
       "      <td>NIFTY BANK</td>\n",
       "      <td>14-06-2005</td>\n",
       "      <td>3649.05</td>\n",
       "      <td>3696.35</td>\n",
       "      <td>3637.70</td>\n",
       "      <td>3689.80</td>\n",
       "      <td>0</td>\n",
       "    </tr>\n",
       "    <tr>\n",
       "      <th>4</th>\n",
       "      <td>NIFTY BANK</td>\n",
       "      <td>15-06-2005</td>\n",
       "      <td>3700.80</td>\n",
       "      <td>3703.75</td>\n",
       "      <td>3662.85</td>\n",
       "      <td>3683.85</td>\n",
       "      <td>0</td>\n",
       "    </tr>\n",
       "    <tr>\n",
       "      <th>...</th>\n",
       "      <td>...</td>\n",
       "      <td>...</td>\n",
       "      <td>...</td>\n",
       "      <td>...</td>\n",
       "      <td>...</td>\n",
       "      <td>...</td>\n",
       "      <td>...</td>\n",
       "    </tr>\n",
       "    <tr>\n",
       "      <th>4495</th>\n",
       "      <td>NIFTY BANK</td>\n",
       "      <td>21-09-2023</td>\n",
       "      <td>45179.60</td>\n",
       "      <td>45276.80</td>\n",
       "      <td>44592.45</td>\n",
       "      <td>44623.85</td>\n",
       "      <td>0</td>\n",
       "    </tr>\n",
       "    <tr>\n",
       "      <th>4496</th>\n",
       "      <td>NIFTY BANK</td>\n",
       "      <td>22-09-2023</td>\n",
       "      <td>44707.35</td>\n",
       "      <td>44996.75</td>\n",
       "      <td>44548.90</td>\n",
       "      <td>44612.05</td>\n",
       "      <td>0</td>\n",
       "    </tr>\n",
       "    <tr>\n",
       "      <th>4497</th>\n",
       "      <td>NIFTY BANK</td>\n",
       "      <td>25-09-2023</td>\n",
       "      <td>44615.00</td>\n",
       "      <td>44936.55</td>\n",
       "      <td>44400.90</td>\n",
       "      <td>44766.10</td>\n",
       "      <td>0</td>\n",
       "    </tr>\n",
       "    <tr>\n",
       "      <th>4498</th>\n",
       "      <td>NIFTY BANK</td>\n",
       "      <td>26-09-2023</td>\n",
       "      <td>44722.50</td>\n",
       "      <td>44773.80</td>\n",
       "      <td>44532.45</td>\n",
       "      <td>44624.20</td>\n",
       "      <td>0</td>\n",
       "    </tr>\n",
       "    <tr>\n",
       "      <th>4499</th>\n",
       "      <td>NIFTY BANK</td>\n",
       "      <td>27-09-2023</td>\n",
       "      <td>44465.90</td>\n",
       "      <td>44668.00</td>\n",
       "      <td>44182.50</td>\n",
       "      <td>44588.30</td>\n",
       "      <td>0</td>\n",
       "    </tr>\n",
       "  </tbody>\n",
       "</table>\n",
       "<p>4500 rows × 7 columns</p>\n",
       "</div>"
      ],
      "text/plain": [
       "      instrument        date         o         h         l         c  v\n",
       "0     NIFTY BANK  09-06-2005   3659.80   3664.45   3609.75   3636.50  0\n",
       "1     NIFTY BANK  10-06-2005   3640.05   3665.80   3585.80   3593.55  0\n",
       "2     NIFTY BANK  13-06-2005   3593.90   3648.40   3556.70   3642.90  0\n",
       "3     NIFTY BANK  14-06-2005   3649.05   3696.35   3637.70   3689.80  0\n",
       "4     NIFTY BANK  15-06-2005   3700.80   3703.75   3662.85   3683.85  0\n",
       "...          ...         ...       ...       ...       ...       ... ..\n",
       "4495  NIFTY BANK  21-09-2023  45179.60  45276.80  44592.45  44623.85  0\n",
       "4496  NIFTY BANK  22-09-2023  44707.35  44996.75  44548.90  44612.05  0\n",
       "4497  NIFTY BANK  25-09-2023  44615.00  44936.55  44400.90  44766.10  0\n",
       "4498  NIFTY BANK  26-09-2023  44722.50  44773.80  44532.45  44624.20  0\n",
       "4499  NIFTY BANK  27-09-2023  44465.90  44668.00  44182.50  44588.30  0\n",
       "\n",
       "[4500 rows x 7 columns]"
      ]
     },
     "execution_count": 3129,
     "metadata": {},
     "output_type": "execute_result"
    }
   ],
   "source": [
    "hdc"
   ]
  },
  {
   "cell_type": "code",
   "execution_count": 3130,
   "id": "dc8509d6",
   "metadata": {},
   "outputs": [],
   "source": [
    "hdc.drop(columns ='v',inplace = True)"
   ]
  },
  {
   "cell_type": "code",
   "execution_count": 3133,
   "id": "0eac4905",
   "metadata": {},
   "outputs": [
    {
     "data": {
      "text/html": [
       "<div>\n",
       "<style scoped>\n",
       "    .dataframe tbody tr th:only-of-type {\n",
       "        vertical-align: middle;\n",
       "    }\n",
       "\n",
       "    .dataframe tbody tr th {\n",
       "        vertical-align: top;\n",
       "    }\n",
       "\n",
       "    .dataframe thead th {\n",
       "        text-align: right;\n",
       "    }\n",
       "</style>\n",
       "<table border=\"1\" class=\"dataframe\">\n",
       "  <thead>\n",
       "    <tr style=\"text-align: right;\">\n",
       "      <th></th>\n",
       "      <th>instrument</th>\n",
       "      <th>date</th>\n",
       "      <th>o</th>\n",
       "      <th>h</th>\n",
       "      <th>l</th>\n",
       "      <th>c</th>\n",
       "    </tr>\n",
       "  </thead>\n",
       "  <tbody>\n",
       "    <tr>\n",
       "      <th>0</th>\n",
       "      <td>NIFTY BANK</td>\n",
       "      <td>09-06-2005</td>\n",
       "      <td>3659.80</td>\n",
       "      <td>3664.45</td>\n",
       "      <td>3609.75</td>\n",
       "      <td>3636.50</td>\n",
       "    </tr>\n",
       "    <tr>\n",
       "      <th>1</th>\n",
       "      <td>NIFTY BANK</td>\n",
       "      <td>10-06-2005</td>\n",
       "      <td>3640.05</td>\n",
       "      <td>3665.80</td>\n",
       "      <td>3585.80</td>\n",
       "      <td>3593.55</td>\n",
       "    </tr>\n",
       "    <tr>\n",
       "      <th>2</th>\n",
       "      <td>NIFTY BANK</td>\n",
       "      <td>13-06-2005</td>\n",
       "      <td>3593.90</td>\n",
       "      <td>3648.40</td>\n",
       "      <td>3556.70</td>\n",
       "      <td>3642.90</td>\n",
       "    </tr>\n",
       "    <tr>\n",
       "      <th>3</th>\n",
       "      <td>NIFTY BANK</td>\n",
       "      <td>14-06-2005</td>\n",
       "      <td>3649.05</td>\n",
       "      <td>3696.35</td>\n",
       "      <td>3637.70</td>\n",
       "      <td>3689.80</td>\n",
       "    </tr>\n",
       "    <tr>\n",
       "      <th>4</th>\n",
       "      <td>NIFTY BANK</td>\n",
       "      <td>15-06-2005</td>\n",
       "      <td>3700.80</td>\n",
       "      <td>3703.75</td>\n",
       "      <td>3662.85</td>\n",
       "      <td>3683.85</td>\n",
       "    </tr>\n",
       "    <tr>\n",
       "      <th>...</th>\n",
       "      <td>...</td>\n",
       "      <td>...</td>\n",
       "      <td>...</td>\n",
       "      <td>...</td>\n",
       "      <td>...</td>\n",
       "      <td>...</td>\n",
       "    </tr>\n",
       "    <tr>\n",
       "      <th>4495</th>\n",
       "      <td>NIFTY BANK</td>\n",
       "      <td>21-09-2023</td>\n",
       "      <td>45179.60</td>\n",
       "      <td>45276.80</td>\n",
       "      <td>44592.45</td>\n",
       "      <td>44623.85</td>\n",
       "    </tr>\n",
       "    <tr>\n",
       "      <th>4496</th>\n",
       "      <td>NIFTY BANK</td>\n",
       "      <td>22-09-2023</td>\n",
       "      <td>44707.35</td>\n",
       "      <td>44996.75</td>\n",
       "      <td>44548.90</td>\n",
       "      <td>44612.05</td>\n",
       "    </tr>\n",
       "    <tr>\n",
       "      <th>4497</th>\n",
       "      <td>NIFTY BANK</td>\n",
       "      <td>25-09-2023</td>\n",
       "      <td>44615.00</td>\n",
       "      <td>44936.55</td>\n",
       "      <td>44400.90</td>\n",
       "      <td>44766.10</td>\n",
       "    </tr>\n",
       "    <tr>\n",
       "      <th>4498</th>\n",
       "      <td>NIFTY BANK</td>\n",
       "      <td>26-09-2023</td>\n",
       "      <td>44722.50</td>\n",
       "      <td>44773.80</td>\n",
       "      <td>44532.45</td>\n",
       "      <td>44624.20</td>\n",
       "    </tr>\n",
       "    <tr>\n",
       "      <th>4499</th>\n",
       "      <td>NIFTY BANK</td>\n",
       "      <td>27-09-2023</td>\n",
       "      <td>44465.90</td>\n",
       "      <td>44668.00</td>\n",
       "      <td>44182.50</td>\n",
       "      <td>44588.30</td>\n",
       "    </tr>\n",
       "  </tbody>\n",
       "</table>\n",
       "<p>4500 rows × 6 columns</p>\n",
       "</div>"
      ],
      "text/plain": [
       "      instrument        date         o         h         l         c\n",
       "0     NIFTY BANK  09-06-2005   3659.80   3664.45   3609.75   3636.50\n",
       "1     NIFTY BANK  10-06-2005   3640.05   3665.80   3585.80   3593.55\n",
       "2     NIFTY BANK  13-06-2005   3593.90   3648.40   3556.70   3642.90\n",
       "3     NIFTY BANK  14-06-2005   3649.05   3696.35   3637.70   3689.80\n",
       "4     NIFTY BANK  15-06-2005   3700.80   3703.75   3662.85   3683.85\n",
       "...          ...         ...       ...       ...       ...       ...\n",
       "4495  NIFTY BANK  21-09-2023  45179.60  45276.80  44592.45  44623.85\n",
       "4496  NIFTY BANK  22-09-2023  44707.35  44996.75  44548.90  44612.05\n",
       "4497  NIFTY BANK  25-09-2023  44615.00  44936.55  44400.90  44766.10\n",
       "4498  NIFTY BANK  26-09-2023  44722.50  44773.80  44532.45  44624.20\n",
       "4499  NIFTY BANK  27-09-2023  44465.90  44668.00  44182.50  44588.30\n",
       "\n",
       "[4500 rows x 6 columns]"
      ]
     },
     "execution_count": 3133,
     "metadata": {},
     "output_type": "execute_result"
    }
   ],
   "source": [
    "hdc"
   ]
  },
  {
   "cell_type": "code",
   "execution_count": 3134,
   "id": "c629f541",
   "metadata": {},
   "outputs": [],
   "source": [
    "#Renaming columns\n",
    "hdc.rename(columns = {'o':'Open','h':'High','l':'Low','c':'Close'}, inplace = True)"
   ]
  },
  {
   "cell_type": "code",
   "execution_count": 3135,
   "id": "4105786b",
   "metadata": {},
   "outputs": [
    {
     "data": {
      "text/plain": [
       "<AxesSubplot:>"
      ]
     },
     "execution_count": 3135,
     "metadata": {},
     "output_type": "execute_result"
    },
    {
     "data": {
      "image/png": "[encoded data removed]",
      "text/plain": [
       "<Figure size 432x288 with 1 Axes>"
      ]
     },
     "metadata": {
      "needs_background": "light"
     },
     "output_type": "display_data"
    }
   ],
   "source": [
    "hdc['Close'].plot()"
   ]
  },
  {
   "cell_type": "code",
   "execution_count": 3136,
   "id": "cea2ba05",
   "metadata": {},
   "outputs": [],
   "source": [
    "#dropping insturment column\n",
    "hdc.drop(columns = 'instrument', inplace = True)"
   ]
  },
  {
   "cell_type": "code",
   "execution_count": 3137,
   "id": "ef28cd8c",
   "metadata": {},
   "outputs": [
    {
     "data": {
      "text/plain": [
       "date     0\n",
       "Open     0\n",
       "High     0\n",
       "Low      0\n",
       "Close    0\n",
       "dtype: int64"
      ]
     },
     "execution_count": 3137,
     "metadata": {},
     "output_type": "execute_result"
    }
   ],
   "source": [
    "#Check for null\n",
    "hdc.isna().sum()"
   ]
  },
  {
   "cell_type": "code",
   "execution_count": null,
   "id": "51c6ae51",
   "metadata": {},
   "outputs": [],
   "source": []
  },
  {
   "cell_type": "code",
   "execution_count": 3138,
   "id": "13ef75a5",
   "metadata": {},
   "outputs": [
    {
     "data": {
      "text/html": [
       "<div>\n",
       "<style scoped>\n",
       "    .dataframe tbody tr th:only-of-type {\n",
       "        vertical-align: middle;\n",
       "    }\n",
       "\n",
       "    .dataframe tbody tr th {\n",
       "        vertical-align: top;\n",
       "    }\n",
       "\n",
       "    .dataframe thead th {\n",
       "        text-align: right;\n",
       "    }\n",
       "</style>\n",
       "<table border=\"1\" class=\"dataframe\">\n",
       "  <thead>\n",
       "    <tr style=\"text-align: right;\">\n",
       "      <th></th>\n",
       "      <th>date</th>\n",
       "      <th>Open</th>\n",
       "      <th>High</th>\n",
       "      <th>Low</th>\n",
       "      <th>Close</th>\n",
       "    </tr>\n",
       "  </thead>\n",
       "  <tbody>\n",
       "    <tr>\n",
       "      <th>4495</th>\n",
       "      <td>21-09-2023</td>\n",
       "      <td>45179.60</td>\n",
       "      <td>45276.80</td>\n",
       "      <td>44592.45</td>\n",
       "      <td>44623.85</td>\n",
       "    </tr>\n",
       "    <tr>\n",
       "      <th>4496</th>\n",
       "      <td>22-09-2023</td>\n",
       "      <td>44707.35</td>\n",
       "      <td>44996.75</td>\n",
       "      <td>44548.90</td>\n",
       "      <td>44612.05</td>\n",
       "    </tr>\n",
       "    <tr>\n",
       "      <th>4497</th>\n",
       "      <td>25-09-2023</td>\n",
       "      <td>44615.00</td>\n",
       "      <td>44936.55</td>\n",
       "      <td>44400.90</td>\n",
       "      <td>44766.10</td>\n",
       "    </tr>\n",
       "    <tr>\n",
       "      <th>4498</th>\n",
       "      <td>26-09-2023</td>\n",
       "      <td>44722.50</td>\n",
       "      <td>44773.80</td>\n",
       "      <td>44532.45</td>\n",
       "      <td>44624.20</td>\n",
       "    </tr>\n",
       "    <tr>\n",
       "      <th>4499</th>\n",
       "      <td>27-09-2023</td>\n",
       "      <td>44465.90</td>\n",
       "      <td>44668.00</td>\n",
       "      <td>44182.50</td>\n",
       "      <td>44588.30</td>\n",
       "    </tr>\n",
       "  </tbody>\n",
       "</table>\n",
       "</div>"
      ],
      "text/plain": [
       "            date      Open      High       Low     Close\n",
       "4495  21-09-2023  45179.60  45276.80  44592.45  44623.85\n",
       "4496  22-09-2023  44707.35  44996.75  44548.90  44612.05\n",
       "4497  25-09-2023  44615.00  44936.55  44400.90  44766.10\n",
       "4498  26-09-2023  44722.50  44773.80  44532.45  44624.20\n",
       "4499  27-09-2023  44465.90  44668.00  44182.50  44588.30"
      ]
     },
     "execution_count": 3138,
     "metadata": {},
     "output_type": "execute_result"
    }
   ],
   "source": [
    "hdc.tail()"
   ]
  },
  {
   "cell_type": "code",
   "execution_count": 3139,
   "id": "db555f46",
   "metadata": {},
   "outputs": [],
   "source": [
    "# Convert the 'date' column to datetime format\n",
    "hdc['date'] = pd.to_datetime(hdc['date'], format = '%d-%m-%Y')  "
   ]
  },
  {
   "cell_type": "code",
   "execution_count": 3141,
   "id": "eb5f8255",
   "metadata": {},
   "outputs": [
    {
     "data": {
      "text/plain": [
       "<AxesSubplot:>"
      ]
     },
     "execution_count": 3141,
     "metadata": {},
     "output_type": "execute_result"
    },
    {
     "data": {
      "image/png": "[encoded data removed]",
      "text/plain": [
       "<Figure size 432x288 with 1 Axes>"
      ]
     },
     "metadata": {
      "needs_background": "light"
     },
     "output_type": "display_data"
    }
   ],
   "source": [
    "hdc['Close'].plot()"
   ]
  },
  {
   "cell_type": "code",
   "execution_count": 3142,
   "id": "8a946c8e",
   "metadata": {},
   "outputs": [],
   "source": [
    "# Set 'date' as the datetime index\n",
    "hdc.set_index('date', inplace=True)\n"
   ]
  },
  {
   "cell_type": "code",
   "execution_count": 3143,
   "id": "558301cc",
   "metadata": {},
   "outputs": [],
   "source": [
    "#Defining dictionary for resampling\n",
    "ohlc_dict = {\n",
    "    'Open':'first',\n",
    "    'High':'max',\n",
    "    'Low':'min',\n",
    "    'Close':'last'\n",
    "    }\n",
    "\n"
   ]
  },
  {
   "cell_type": "code",
   "execution_count": 3144,
   "id": "6e56d91e",
   "metadata": {},
   "outputs": [],
   "source": [
    "\n",
    "# Resample to weekly data ending on Fridays using the ohlc_dict\n",
    "hd1 = hdc.resample('W').apply(ohlc_dict)"
   ]
  },
  {
   "cell_type": "code",
   "execution_count": 3145,
   "id": "b301861f",
   "metadata": {},
   "outputs": [
    {
     "data": {
      "text/html": [
       "<div>\n",
       "<style scoped>\n",
       "    .dataframe tbody tr th:only-of-type {\n",
       "        vertical-align: middle;\n",
       "    }\n",
       "\n",
       "    .dataframe tbody tr th {\n",
       "        vertical-align: top;\n",
       "    }\n",
       "\n",
       "    .dataframe thead th {\n",
       "        text-align: right;\n",
       "    }\n",
       "</style>\n",
       "<table border=\"1\" class=\"dataframe\">\n",
       "  <thead>\n",
       "    <tr style=\"text-align: right;\">\n",
       "      <th></th>\n",
       "      <th>Open</th>\n",
       "      <th>High</th>\n",
       "      <th>Low</th>\n",
       "      <th>Close</th>\n",
       "    </tr>\n",
       "    <tr>\n",
       "      <th>date</th>\n",
       "      <th></th>\n",
       "      <th></th>\n",
       "      <th></th>\n",
       "      <th></th>\n",
       "    </tr>\n",
       "  </thead>\n",
       "  <tbody>\n",
       "    <tr>\n",
       "      <th>2005-06-12</th>\n",
       "      <td>3659.80</td>\n",
       "      <td>3665.80</td>\n",
       "      <td>3585.80</td>\n",
       "      <td>3593.55</td>\n",
       "    </tr>\n",
       "    <tr>\n",
       "      <th>2005-06-19</th>\n",
       "      <td>3593.90</td>\n",
       "      <td>3703.75</td>\n",
       "      <td>3556.70</td>\n",
       "      <td>3595.80</td>\n",
       "    </tr>\n",
       "    <tr>\n",
       "      <th>2005-06-26</th>\n",
       "      <td>3600.90</td>\n",
       "      <td>3627.85</td>\n",
       "      <td>3518.95</td>\n",
       "      <td>3599.10</td>\n",
       "    </tr>\n",
       "    <tr>\n",
       "      <th>2005-07-03</th>\n",
       "      <td>3599.00</td>\n",
       "      <td>3704.35</td>\n",
       "      <td>3542.40</td>\n",
       "      <td>3678.90</td>\n",
       "    </tr>\n",
       "    <tr>\n",
       "      <th>2005-07-10</th>\n",
       "      <td>3684.05</td>\n",
       "      <td>3796.90</td>\n",
       "      <td>3646.95</td>\n",
       "      <td>3772.20</td>\n",
       "    </tr>\n",
       "    <tr>\n",
       "      <th>...</th>\n",
       "      <td>...</td>\n",
       "      <td>...</td>\n",
       "      <td>...</td>\n",
       "      <td>...</td>\n",
       "    </tr>\n",
       "    <tr>\n",
       "      <th>2023-09-03</th>\n",
       "      <td>44253.65</td>\n",
       "      <td>44779.65</td>\n",
       "      <td>43830.75</td>\n",
       "      <td>44436.10</td>\n",
       "    </tr>\n",
       "    <tr>\n",
       "      <th>2023-09-10</th>\n",
       "      <td>44647.65</td>\n",
       "      <td>45383.35</td>\n",
       "      <td>44207.25</td>\n",
       "      <td>45156.40</td>\n",
       "    </tr>\n",
       "    <tr>\n",
       "      <th>2023-09-17</th>\n",
       "      <td>45340.80</td>\n",
       "      <td>46310.40</td>\n",
       "      <td>45231.30</td>\n",
       "      <td>46231.50</td>\n",
       "    </tr>\n",
       "    <tr>\n",
       "      <th>2023-09-24</th>\n",
       "      <td>46100.95</td>\n",
       "      <td>46252.95</td>\n",
       "      <td>44548.90</td>\n",
       "      <td>44612.05</td>\n",
       "    </tr>\n",
       "    <tr>\n",
       "      <th>2023-10-01</th>\n",
       "      <td>44615.00</td>\n",
       "      <td>44936.55</td>\n",
       "      <td>44182.50</td>\n",
       "      <td>44588.30</td>\n",
       "    </tr>\n",
       "  </tbody>\n",
       "</table>\n",
       "<p>956 rows × 4 columns</p>\n",
       "</div>"
      ],
      "text/plain": [
       "                Open      High       Low     Close\n",
       "date                                              \n",
       "2005-06-12   3659.80   3665.80   3585.80   3593.55\n",
       "2005-06-19   3593.90   3703.75   3556.70   3595.80\n",
       "2005-06-26   3600.90   3627.85   3518.95   3599.10\n",
       "2005-07-03   3599.00   3704.35   3542.40   3678.90\n",
       "2005-07-10   3684.05   3796.90   3646.95   3772.20\n",
       "...              ...       ...       ...       ...\n",
       "2023-09-03  44253.65  44779.65  43830.75  44436.10\n",
       "2023-09-10  44647.65  45383.35  44207.25  45156.40\n",
       "2023-09-17  45340.80  46310.40  45231.30  46231.50\n",
       "2023-09-24  46100.95  46252.95  44548.90  44612.05\n",
       "2023-10-01  44615.00  44936.55  44182.50  44588.30\n",
       "\n",
       "[956 rows x 4 columns]"
      ]
     },
     "execution_count": 3145,
     "metadata": {},
     "output_type": "execute_result"
    }
   ],
   "source": [
    "hd1"
   ]
  },
  {
   "cell_type": "code",
   "execution_count": 3146,
   "id": "a6bda1eb",
   "metadata": {},
   "outputs": [
    {
     "data": {
      "text/plain": [
       "Open     2\n",
       "High     2\n",
       "Low      2\n",
       "Close    2\n",
       "dtype: int64"
      ]
     },
     "execution_count": 3146,
     "metadata": {},
     "output_type": "execute_result"
    }
   ],
   "source": [
    "hd1.isnull().sum()"
   ]
  },
  {
   "cell_type": "code",
   "execution_count": 3147,
   "id": "e668ac20",
   "metadata": {},
   "outputs": [
    {
     "data": {
      "text/html": [
       "<div>\n",
       "<style scoped>\n",
       "    .dataframe tbody tr th:only-of-type {\n",
       "        vertical-align: middle;\n",
       "    }\n",
       "\n",
       "    .dataframe tbody tr th {\n",
       "        vertical-align: top;\n",
       "    }\n",
       "\n",
       "    .dataframe thead th {\n",
       "        text-align: right;\n",
       "    }\n",
       "</style>\n",
       "<table border=\"1\" class=\"dataframe\">\n",
       "  <thead>\n",
       "    <tr style=\"text-align: right;\">\n",
       "      <th></th>\n",
       "      <th>Open</th>\n",
       "      <th>High</th>\n",
       "      <th>Low</th>\n",
       "      <th>Close</th>\n",
       "    </tr>\n",
       "    <tr>\n",
       "      <th>date</th>\n",
       "      <th></th>\n",
       "      <th></th>\n",
       "      <th></th>\n",
       "      <th></th>\n",
       "    </tr>\n",
       "  </thead>\n",
       "  <tbody>\n",
       "    <tr>\n",
       "      <th>2009-02-22</th>\n",
       "      <td>NaN</td>\n",
       "      <td>NaN</td>\n",
       "      <td>NaN</td>\n",
       "      <td>NaN</td>\n",
       "    </tr>\n",
       "    <tr>\n",
       "      <th>2009-12-13</th>\n",
       "      <td>NaN</td>\n",
       "      <td>NaN</td>\n",
       "      <td>NaN</td>\n",
       "      <td>NaN</td>\n",
       "    </tr>\n",
       "  </tbody>\n",
       "</table>\n",
       "</div>"
      ],
      "text/plain": [
       "            Open  High  Low  Close\n",
       "date                              \n",
       "2009-02-22   NaN   NaN  NaN    NaN\n",
       "2009-12-13   NaN   NaN  NaN    NaN"
      ]
     },
     "execution_count": 3147,
     "metadata": {},
     "output_type": "execute_result"
    }
   ],
   "source": [
    "#Locating rows with Null values\n",
    "hd1.loc[hd1.isna().any(axis = 1)]"
   ]
  },
  {
   "cell_type": "code",
   "execution_count": 3148,
   "id": "08f0b115",
   "metadata": {},
   "outputs": [],
   "source": [
    "#dropping Null values\n",
    "hd1.dropna(inplace = True)"
   ]
  },
  {
   "cell_type": "code",
   "execution_count": 3149,
   "id": "db61aca7",
   "metadata": {},
   "outputs": [
    {
     "data": {
      "text/html": [
       "<div>\n",
       "<style scoped>\n",
       "    .dataframe tbody tr th:only-of-type {\n",
       "        vertical-align: middle;\n",
       "    }\n",
       "\n",
       "    .dataframe tbody tr th {\n",
       "        vertical-align: top;\n",
       "    }\n",
       "\n",
       "    .dataframe thead th {\n",
       "        text-align: right;\n",
       "    }\n",
       "</style>\n",
       "<table border=\"1\" class=\"dataframe\">\n",
       "  <thead>\n",
       "    <tr style=\"text-align: right;\">\n",
       "      <th></th>\n",
       "      <th>Open</th>\n",
       "      <th>High</th>\n",
       "      <th>Low</th>\n",
       "      <th>Close</th>\n",
       "    </tr>\n",
       "    <tr>\n",
       "      <th>date</th>\n",
       "      <th></th>\n",
       "      <th></th>\n",
       "      <th></th>\n",
       "      <th></th>\n",
       "    </tr>\n",
       "  </thead>\n",
       "  <tbody>\n",
       "  </tbody>\n",
       "</table>\n",
       "</div>"
      ],
      "text/plain": [
       "Empty DataFrame\n",
       "Columns: [Open, High, Low, Close]\n",
       "Index: []"
      ]
     },
     "execution_count": 3149,
     "metadata": {},
     "output_type": "execute_result"
    }
   ],
   "source": [
    "#Locating rows with Null values\n",
    "hd1.loc[hd1.isna().any(axis = 1)]"
   ]
  },
  {
   "cell_type": "code",
   "execution_count": 3150,
   "id": "6682cbd8",
   "metadata": {},
   "outputs": [],
   "source": [
    "# Creating \"gap\" column- \n",
    "    # 1 signifies Gap up, current periods Open is HIGHER than previous periods Close\n",
    "    # -1 signifies Gap down, current periods Open is LOWER than previous periods Close\n",
    "hd1['gap'] = np.where((hd1['Open']/hd1['Close'].shift()>1),1,np.where((hd1['Open']/hd1['Close'].shift()<1),-1,0))\n"
   ]
  },
  {
   "cell_type": "code",
   "execution_count": 3151,
   "id": "1ffd772d",
   "metadata": {},
   "outputs": [
    {
     "data": {
      "text/plain": [
       " 1    601\n",
       "-1    341\n",
       " 0     12\n",
       "Name: gap, dtype: int64"
      ]
     },
     "execution_count": 3151,
     "metadata": {},
     "output_type": "execute_result"
    }
   ],
   "source": [
    "hd1['gap'].value_counts()"
   ]
  },
  {
   "cell_type": "code",
   "execution_count": 3152,
   "id": "ff1b3b47",
   "metadata": {},
   "outputs": [],
   "source": [
    "#Defining new row for Close shift values, for manual check \n",
    "hd1['lc'] = hd1['Close'].shift() "
   ]
  },
  {
   "cell_type": "code",
   "execution_count": 3153,
   "id": "b378bb65",
   "metadata": {
    "scrolled": false
   },
   "outputs": [
    {
     "data": {
      "text/html": [
       "<div>\n",
       "<style scoped>\n",
       "    .dataframe tbody tr th:only-of-type {\n",
       "        vertical-align: middle;\n",
       "    }\n",
       "\n",
       "    .dataframe tbody tr th {\n",
       "        vertical-align: top;\n",
       "    }\n",
       "\n",
       "    .dataframe thead th {\n",
       "        text-align: right;\n",
       "    }\n",
       "</style>\n",
       "<table border=\"1\" class=\"dataframe\">\n",
       "  <thead>\n",
       "    <tr style=\"text-align: right;\">\n",
       "      <th></th>\n",
       "      <th>Open</th>\n",
       "      <th>High</th>\n",
       "      <th>Low</th>\n",
       "      <th>Close</th>\n",
       "      <th>gap</th>\n",
       "      <th>lc</th>\n",
       "    </tr>\n",
       "    <tr>\n",
       "      <th>date</th>\n",
       "      <th></th>\n",
       "      <th></th>\n",
       "      <th></th>\n",
       "      <th></th>\n",
       "      <th></th>\n",
       "      <th></th>\n",
       "    </tr>\n",
       "  </thead>\n",
       "  <tbody>\n",
       "    <tr>\n",
       "      <th>2005-06-12</th>\n",
       "      <td>3659.80</td>\n",
       "      <td>3665.80</td>\n",
       "      <td>3585.80</td>\n",
       "      <td>3593.55</td>\n",
       "      <td>0</td>\n",
       "      <td>NaN</td>\n",
       "    </tr>\n",
       "    <tr>\n",
       "      <th>2006-04-09</th>\n",
       "      <td>4661.50</td>\n",
       "      <td>4905.05</td>\n",
       "      <td>4661.50</td>\n",
       "      <td>4717.60</td>\n",
       "      <td>0</td>\n",
       "      <td>4661.50</td>\n",
       "    </tr>\n",
       "    <tr>\n",
       "      <th>2006-09-17</th>\n",
       "      <td>4658.45</td>\n",
       "      <td>4915.20</td>\n",
       "      <td>4480.20</td>\n",
       "      <td>4908.10</td>\n",
       "      <td>0</td>\n",
       "      <td>4658.45</td>\n",
       "    </tr>\n",
       "    <tr>\n",
       "      <th>2009-07-12</th>\n",
       "      <td>7566.05</td>\n",
       "      <td>7711.40</td>\n",
       "      <td>6469.00</td>\n",
       "      <td>6520.60</td>\n",
       "      <td>0</td>\n",
       "      <td>7566.05</td>\n",
       "    </tr>\n",
       "    <tr>\n",
       "      <th>2015-02-08</th>\n",
       "      <td>19843.75</td>\n",
       "      <td>19991.40</td>\n",
       "      <td>18740.35</td>\n",
       "      <td>18786.70</td>\n",
       "      <td>0</td>\n",
       "      <td>19843.75</td>\n",
       "    </tr>\n",
       "    <tr>\n",
       "      <th>2015-02-15</th>\n",
       "      <td>18786.70</td>\n",
       "      <td>19441.00</td>\n",
       "      <td>18226.90</td>\n",
       "      <td>19369.70</td>\n",
       "      <td>0</td>\n",
       "      <td>18786.70</td>\n",
       "    </tr>\n",
       "    <tr>\n",
       "      <th>2015-02-22</th>\n",
       "      <td>19369.70</td>\n",
       "      <td>19532.70</td>\n",
       "      <td>18876.25</td>\n",
       "      <td>19073.55</td>\n",
       "      <td>0</td>\n",
       "      <td>19369.70</td>\n",
       "    </tr>\n",
       "    <tr>\n",
       "      <th>2015-03-01</th>\n",
       "      <td>19073.55</td>\n",
       "      <td>19776.90</td>\n",
       "      <td>18489.60</td>\n",
       "      <td>19691.20</td>\n",
       "      <td>0</td>\n",
       "      <td>19073.55</td>\n",
       "    </tr>\n",
       "    <tr>\n",
       "      <th>2015-03-08</th>\n",
       "      <td>19691.20</td>\n",
       "      <td>20541.65</td>\n",
       "      <td>19398.75</td>\n",
       "      <td>19748.00</td>\n",
       "      <td>0</td>\n",
       "      <td>19691.20</td>\n",
       "    </tr>\n",
       "    <tr>\n",
       "      <th>2015-03-15</th>\n",
       "      <td>19748.00</td>\n",
       "      <td>19748.00</td>\n",
       "      <td>18737.35</td>\n",
       "      <td>18779.80</td>\n",
       "      <td>0</td>\n",
       "      <td>19748.00</td>\n",
       "    </tr>\n",
       "    <tr>\n",
       "      <th>2015-03-29</th>\n",
       "      <td>18606.35</td>\n",
       "      <td>18696.70</td>\n",
       "      <td>17720.30</td>\n",
       "      <td>18044.80</td>\n",
       "      <td>0</td>\n",
       "      <td>18606.35</td>\n",
       "    </tr>\n",
       "    <tr>\n",
       "      <th>2015-04-05</th>\n",
       "      <td>18044.80</td>\n",
       "      <td>18668.85</td>\n",
       "      <td>18044.80</td>\n",
       "      <td>18617.85</td>\n",
       "      <td>0</td>\n",
       "      <td>18044.80</td>\n",
       "    </tr>\n",
       "  </tbody>\n",
       "</table>\n",
       "</div>"
      ],
      "text/plain": [
       "                Open      High       Low     Close  gap        lc\n",
       "date                                                             \n",
       "2005-06-12   3659.80   3665.80   3585.80   3593.55    0       NaN\n",
       "2006-04-09   4661.50   4905.05   4661.50   4717.60    0   4661.50\n",
       "2006-09-17   4658.45   4915.20   4480.20   4908.10    0   4658.45\n",
       "2009-07-12   7566.05   7711.40   6469.00   6520.60    0   7566.05\n",
       "2015-02-08  19843.75  19991.40  18740.35  18786.70    0  19843.75\n",
       "2015-02-15  18786.70  19441.00  18226.90  19369.70    0  18786.70\n",
       "2015-02-22  19369.70  19532.70  18876.25  19073.55    0  19369.70\n",
       "2015-03-01  19073.55  19776.90  18489.60  19691.20    0  19073.55\n",
       "2015-03-08  19691.20  20541.65  19398.75  19748.00    0  19691.20\n",
       "2015-03-15  19748.00  19748.00  18737.35  18779.80    0  19748.00\n",
       "2015-03-29  18606.35  18696.70  17720.30  18044.80    0  18606.35\n",
       "2015-04-05  18044.80  18668.85  18044.80  18617.85    0  18044.80"
      ]
     },
     "execution_count": 3153,
     "metadata": {},
     "output_type": "execute_result"
    }
   ],
   "source": [
    "hd1.loc[hd1['gap']==0]"
   ]
  },
  {
   "cell_type": "code",
   "execution_count": 3154,
   "id": "41814360",
   "metadata": {},
   "outputs": [
    {
     "data": {
      "text/plain": [
       "0    943\n",
       "1     11\n",
       "Name: x1, dtype: int64"
      ]
     },
     "execution_count": 3154,
     "metadata": {},
     "output_type": "execute_result"
    }
   ],
   "source": [
    "#checking for count of outliers, in case of same price.\n",
    "hd1['x1'] = np.where(hd1['Open'] == hd1['lc'],1,0)\n",
    "hd1['x1'].value_counts()"
   ]
  },
  {
   "cell_type": "code",
   "execution_count": 3155,
   "id": "9aa8bd91",
   "metadata": {},
   "outputs": [],
   "source": [
    "#dropping 'x1' column\n",
    "hd1.drop(columns = 'x1', axis = 1, inplace = True)\n"
   ]
  },
  {
   "cell_type": "code",
   "execution_count": 3156,
   "id": "26c5738a",
   "metadata": {},
   "outputs": [
    {
     "name": "stdout",
     "output_type": "stream",
     "text": [
      "No of Gap Ups    601\n",
      "No of Gap Downs  341\n",
      "No of No Gap     12\n"
     ]
    }
   ],
   "source": [
    "#Printing gap types \n",
    "check2 = hd1['gap'].value_counts()\n",
    "print('No of Gap Ups   ',check2[1])\n",
    "print('No of Gap Downs ',check2[-1])\n",
    "print('No of No Gap    ',check2[0])"
   ]
  },
  {
   "cell_type": "code",
   "execution_count": 3157,
   "id": "59c002b2",
   "metadata": {},
   "outputs": [
    {
     "data": {
      "text/plain": [
       "954"
      ]
     },
     "execution_count": 3157,
     "metadata": {},
     "output_type": "execute_result"
    }
   ],
   "source": [
    "check2.sum()"
   ]
  },
  {
   "cell_type": "code",
   "execution_count": 3158,
   "id": "a9195d7e",
   "metadata": {},
   "outputs": [],
   "source": [
    "#Computing Gap percentage, (current open/previous close)-1\n",
    "hd1['gap_per'] = ((hd1['Open']/hd1['Close'].shift()-1))"
   ]
  },
  {
   "cell_type": "code",
   "execution_count": 3159,
   "id": "0d1e4bca",
   "metadata": {
    "scrolled": true
   },
   "outputs": [
    {
     "data": {
      "text/plain": [
       "<AxesSubplot:xlabel='date'>"
      ]
     },
     "execution_count": 3159,
     "metadata": {},
     "output_type": "execute_result"
    },
    {
     "data": {
      "image/png": "[encoded data removed]",
      "text/plain": [
       "<Figure size 432x288 with 1 Axes>"
      ]
     },
     "metadata": {
      "needs_background": "light"
     },
     "output_type": "display_data"
    }
   ],
   "source": [
    "hd1['gap_per'].plot()\n"
   ]
  },
  {
   "cell_type": "code",
   "execution_count": 3160,
   "id": "8a11ae94",
   "metadata": {},
   "outputs": [],
   "source": [
    "start2 = '01-01-2017'\n",
    "end2 = '01-01-2023'\n"
   ]
  },
  {
   "cell_type": "code",
   "execution_count": 3161,
   "id": "40f5c231",
   "metadata": {},
   "outputs": [],
   "source": [
    "hd2 = hd1[start2:end2]"
   ]
  },
  {
   "cell_type": "code",
   "execution_count": 3162,
   "id": "0060537e",
   "metadata": {},
   "outputs": [
    {
     "data": {
      "text/plain": [
       "0.06987240061915556"
      ]
     },
     "execution_count": 3162,
     "metadata": {},
     "output_type": "execute_result"
    }
   ],
   "source": [
    "hd2['gap_per'].max()"
   ]
  },
  {
   "cell_type": "code",
   "execution_count": 3163,
   "id": "957b12ba",
   "metadata": {},
   "outputs": [
    {
     "data": {
      "text/plain": [
       "-0.09874689924006774"
      ]
     },
     "execution_count": 3163,
     "metadata": {},
     "output_type": "execute_result"
    }
   ],
   "source": [
    "hd2['gap_per'].min()"
   ]
  },
  {
   "cell_type": "code",
   "execution_count": 3088,
   "id": "bd0e15ec",
   "metadata": {},
   "outputs": [
    {
     "data": {
      "text/plain": [
       "Timestamp('2020-03-29 00:00:00')"
      ]
     },
     "execution_count": 3088,
     "metadata": {},
     "output_type": "execute_result"
    }
   ],
   "source": [
    "hd2['gap_per'].idxmin()"
   ]
  },
  {
   "cell_type": "code",
   "execution_count": 3089,
   "id": "8c051d39",
   "metadata": {},
   "outputs": [
    {
     "data": {
      "text/plain": [
       "Timestamp('2020-04-12 00:00:00')"
      ]
     },
     "execution_count": 3089,
     "metadata": {},
     "output_type": "execute_result"
    }
   ],
   "source": [
    "hd2['gap_per'].idxmax()"
   ]
  },
  {
   "cell_type": "code",
   "execution_count": 3164,
   "id": "f8f6903f",
   "metadata": {},
   "outputs": [
    {
     "data": {
      "text/html": [
       "<div>\n",
       "<style scoped>\n",
       "    .dataframe tbody tr th:only-of-type {\n",
       "        vertical-align: middle;\n",
       "    }\n",
       "\n",
       "    .dataframe tbody tr th {\n",
       "        vertical-align: top;\n",
       "    }\n",
       "\n",
       "    .dataframe thead th {\n",
       "        text-align: right;\n",
       "    }\n",
       "</style>\n",
       "<table border=\"1\" class=\"dataframe\">\n",
       "  <thead>\n",
       "    <tr style=\"text-align: right;\">\n",
       "      <th></th>\n",
       "      <th>Open</th>\n",
       "      <th>High</th>\n",
       "      <th>Low</th>\n",
       "      <th>Close</th>\n",
       "      <th>gap</th>\n",
       "      <th>lc</th>\n",
       "      <th>gap_per</th>\n",
       "    </tr>\n",
       "    <tr>\n",
       "      <th>date</th>\n",
       "      <th></th>\n",
       "      <th></th>\n",
       "      <th></th>\n",
       "      <th></th>\n",
       "      <th></th>\n",
       "      <th></th>\n",
       "      <th></th>\n",
       "    </tr>\n",
       "  </thead>\n",
       "  <tbody>\n",
       "    <tr>\n",
       "      <th>2009-05-24</th>\n",
       "      <td>6304.25</td>\n",
       "      <td>7567.9</td>\n",
       "      <td>6304.25</td>\n",
       "      <td>7036.3</td>\n",
       "      <td>1</td>\n",
       "      <td>5695.05</td>\n",
       "      <td>0.10697</td>\n",
       "    </tr>\n",
       "  </tbody>\n",
       "</table>\n",
       "</div>"
      ],
      "text/plain": [
       "               Open    High      Low   Close  gap       lc  gap_per\n",
       "date                                                               \n",
       "2009-05-24  6304.25  7567.9  6304.25  7036.3    1  5695.05  0.10697"
      ]
     },
     "execution_count": 3164,
     "metadata": {},
     "output_type": "execute_result"
    }
   ],
   "source": [
    "#Locating rows with 10% and more gap per\n",
    "asd = hd1['gap_per'] > .1\n",
    "hd1.loc[asd]"
   ]
  },
  {
   "cell_type": "code",
   "execution_count": 3165,
   "id": "e08f067c",
   "metadata": {},
   "outputs": [],
   "source": [
    "#close to close ret\n",
    "hd1['weekly_ret'] = np.log(hd1['Close']/hd1['Close'].shift())\n",
    "\n",
    "\n",
    "#close to close ret\n",
    "hd1['weekly_ret_offset'] = hd1['weekly_ret'].shift(-1)\n",
    "\n",
    "\n",
    "#quaterly ret, assuming every quater has 60 trading days\n",
    "hd1['quat_ret'] = np.log(hd1['Close']/hd1['Close'].shift(60))"
   ]
  },
  {
   "cell_type": "code",
   "execution_count": null,
   "id": "6556e571",
   "metadata": {},
   "outputs": [],
   "source": []
  },
  {
   "cell_type": "code",
   "execution_count": null,
   "id": "f25a8229",
   "metadata": {},
   "outputs": [],
   "source": []
  },
  {
   "cell_type": "code",
   "execution_count": 3166,
   "id": "fb2812c0",
   "metadata": {},
   "outputs": [],
   "source": [
    "#\"dgap_rec\" refers to Down Gap Recovery\n",
    "#Recovery of gap withing same time period as it was created.\n",
    "                                 #\"1\" means the entire gap and more was explored by price. Gap was filled in the same period it was created\n",
    "                                 #\"0\" gap was not completely filled in the period it was created \n",
    "                                                           \n",
    "hd1['dgap_rec'] = np.where(hd1['gap'] == -1, np.where(hd1['High'] > hd1['Close'].shift(),1,0),np.NaN)"
   ]
  },
  {
   "cell_type": "code",
   "execution_count": 3167,
   "id": "742cb807",
   "metadata": {},
   "outputs": [
    {
     "data": {
      "text/plain": [
       "1.0    272\n",
       "0.0     69\n",
       "Name: dgap_rec, dtype: int64"
      ]
     },
     "execution_count": 3167,
     "metadata": {},
     "output_type": "execute_result"
    }
   ],
   "source": [
    "# Count of 1  represents Down Gap rec is True\n",
    "# Count of 0  represents Down Gap rec is False\n",
    "hd1['dgap_rec'].value_counts()"
   ]
  },
  {
   "cell_type": "code",
   "execution_count": 3173,
   "id": "24939369",
   "metadata": {},
   "outputs": [
    {
     "name": "stdout",
     "output_type": "stream",
     "text": [
      "Fraction of Down gaps recovered: 0.7976539589442815\n"
     ]
    },
    {
     "data": {
      "text/plain": [
       "1.0    272\n",
       "0.0     69\n",
       "Name: dgap_rec, dtype: int64"
      ]
     },
     "execution_count": 3173,
     "metadata": {},
     "output_type": "execute_result"
    }
   ],
   "source": [
    "#Pritning to get recoveries\n",
    "uu = hd1['dgap_rec'].value_counts()\n",
    "\n",
    "print('Fraction of Down gaps recovered:',uu[1]/uu.sum())\n",
    "uu"
   ]
  },
  {
   "cell_type": "code",
   "execution_count": 3174,
   "id": "95aeeaaa",
   "metadata": {},
   "outputs": [
    {
     "name": "stdout",
     "output_type": "stream",
     "text": [
      "79.7% of all Up Downs are recovered within same candle\n"
     ]
    },
    {
     "data": {
      "image/png": "[encoded data removed]",
      "text/plain": [
       "<Figure size 360x360 with 1 Axes>"
      ]
     },
     "metadata": {},
     "output_type": "display_data"
    }
   ],
   "source": [
    "#plotting pie chart for all the times Down gap was recovered or not\n",
    "ploty = uu.plot.pie(y=[0], figsize=(5, 5))\n",
    "print('79.7% of all Up Downs are recovered within same candle')"
   ]
  },
  {
   "cell_type": "code",
   "execution_count": 3175,
   "id": "69a834f8",
   "metadata": {},
   "outputs": [],
   "source": [
    "#\"ugap_rec\" refers to Up Gap Recovery\n",
    "#Recovery of gap withing same time period as it was created.\n",
    "                                 #\"1\" means the entire gap and more was explored by price Gap was filled in the same period it was created\n",
    "                                 #\"0\" gap was not completely filled in the period it was created \n",
    "hd1['ugap_rec'] = np.where(hd1['gap']==1, np.where(hd1['Low'] < hd1['Close'].shift(),1,0),np.NaN)"
   ]
  },
  {
   "cell_type": "code",
   "execution_count": 3176,
   "id": "2ca0c62d",
   "metadata": {},
   "outputs": [
    {
     "data": {
      "text/plain": [
       "1.0    468\n",
       "0.0    133\n",
       "Name: ugap_rec, dtype: int64"
      ]
     },
     "execution_count": 3176,
     "metadata": {},
     "output_type": "execute_result"
    }
   ],
   "source": [
    "# Count of 1  represents Up Gap rec is True\n",
    "# Count of 0  represents Up Gap rec is False\n",
    "hd1['ugap_rec'].value_counts()"
   ]
  },
  {
   "cell_type": "code",
   "execution_count": 3177,
   "id": "9838e332",
   "metadata": {},
   "outputs": [
    {
     "name": "stdout",
     "output_type": "stream",
     "text": [
      "Fraction of Up gaps recovered: 0.778702163061564\n"
     ]
    }
   ],
   "source": [
    "#Creating new dataframe to make pie charts\n",
    "o = hd1['ugap_rec'].value_counts()\n",
    "print('Fraction of Up gaps recovered:',o[1]/o.sum())"
   ]
  },
  {
   "cell_type": "code",
   "execution_count": 3178,
   "id": "0ba0ed73",
   "metadata": {},
   "outputs": [
    {
     "data": {
      "text/plain": [
       "1.0    468\n",
       "0.0    133\n",
       "Name: ugap_rec, dtype: int64"
      ]
     },
     "execution_count": 3178,
     "metadata": {},
     "output_type": "execute_result"
    }
   ],
   "source": [
    "#Pritning to get recoveries\n",
    "o"
   ]
  },
  {
   "cell_type": "code",
   "execution_count": 3179,
   "id": "4c820d32",
   "metadata": {},
   "outputs": [
    {
     "name": "stdout",
     "output_type": "stream",
     "text": [
      "77.8% of all Up gaps are recovered within same candle\n"
     ]
    },
    {
     "data": {
      "image/png": "[encoded data removed]",
      "text/plain": [
       "<Figure size 360x360 with 1 Axes>"
      ]
     },
     "metadata": {},
     "output_type": "display_data"
    }
   ],
   "source": [
    "#plotting pie chart for all the times Up gap was recovered or not\n",
    "plot = o.plot.pie(y=[0], figsize=(5, 5))\n",
    "print('77.8% of all Up gaps are recovered within same candle')\n"
   ]
  },
  {
   "cell_type": "code",
   "execution_count": 3180,
   "id": "fdca7f3b",
   "metadata": {},
   "outputs": [],
   "source": [
    "# ugap_excess filters and computes  extent of the recovery after the gaps fill within same time period, when gap == 1\n",
    "# ugap_excess = (Current Low / Previous Close)\n",
    "#hd1['ugap_excess'] = np.where(hd1['gap'] == 1, np.where(hd1['Open']-hd1['Low']>hd1['Open']-hd1['Close'].shift(),\n",
    "                                                      #(np.log(hd1['Low'] / hd1['Close'].shift())*-1),np.NaN),np.NaN\n",
    "    #np.where((hd1['gap'] == 1) &  \n",
    "hd1['ugap_excess'] = np.where((hd1['ugap_rec']==1),(np.log(hd1['Low'] / hd1['Close'].shift())*-1),np.NaN)\n",
    "                                                   "
   ]
  },
  {
   "cell_type": "code",
   "execution_count": 3181,
   "id": "59dccdc2",
   "metadata": {},
   "outputs": [
    {
     "data": {
      "text/plain": [
       "<AxesSubplot:>"
      ]
     },
     "execution_count": 3181,
     "metadata": {},
     "output_type": "execute_result"
    },
    {
     "data": {
      "image/png": "[encoded data removed]",
      "text/plain": [
       "<Figure size 432x288 with 1 Axes>"
      ]
     },
     "metadata": {
      "needs_background": "light"
     },
     "output_type": "display_data"
    }
   ],
   "source": [
    "#Histogram for all ugap excess instances\n",
    "hd1['ugap_excess'].hist(bins = 'auto',edgecolor = 'white',color = 'darkgreen')"
   ]
  },
  {
   "cell_type": "code",
   "execution_count": 3182,
   "id": "7b3ff0a5",
   "metadata": {},
   "outputs": [],
   "source": [
    "# dgap_excess filters and and computes extent of the recovery after the gaps fill within same time period, when gap == -1\n",
    "# ugap_excess = (Current High / Previous Close)\n",
    "#hd1['dgap_excess'] = np.where(hd1['gap'] == -1 , np.where(hd1['High']>hd1['Close'].shift(),\n",
    "                                                       #np.log(hd1['High'] / hd1['Close'].shift()),np.NaN),np.NaN)\n",
    "#np.where((hd1['gap'] == -1) &\n",
    "hd1['dgap_excess'] =  np.where((hd1['dgap_rec']==1),np.log(hd1['High'] / hd1['Close'].shift()),np.NaN)\n",
    "                                                       "
   ]
  },
  {
   "cell_type": "code",
   "execution_count": 3183,
   "id": "dcc11346",
   "metadata": {},
   "outputs": [
    {
     "data": {
      "image/png": "[encoded data removed]",
      "text/plain": [
       "<Figure size 432x288 with 1 Axes>"
      ]
     },
     "metadata": {
      "needs_background": "light"
     },
     "output_type": "display_data"
    }
   ],
   "source": [
    "#Histogram for all ugap excess instances\n",
    "dataa = hd1['dgap_excess']\n",
    "hist_values, bin_edges, _ = plt.hist(dataa , bins = 'auto',density = True,edgecolor = 'white',color = 'red')\n",
    "\n"
   ]
  },
  {
   "cell_type": "code",
   "execution_count": null,
   "id": "d515348a",
   "metadata": {},
   "outputs": [],
   "source": []
  },
  {
   "cell_type": "code",
   "execution_count": 3184,
   "id": "f38433b9",
   "metadata": {},
   "outputs": [
    {
     "data": {
      "text/html": [
       "<div>\n",
       "<style scoped>\n",
       "    .dataframe tbody tr th:only-of-type {\n",
       "        vertical-align: middle;\n",
       "    }\n",
       "\n",
       "    .dataframe tbody tr th {\n",
       "        vertical-align: top;\n",
       "    }\n",
       "\n",
       "    .dataframe thead th {\n",
       "        text-align: right;\n",
       "    }\n",
       "</style>\n",
       "<table border=\"1\" class=\"dataframe\">\n",
       "  <thead>\n",
       "    <tr style=\"text-align: right;\">\n",
       "      <th></th>\n",
       "      <th>Open</th>\n",
       "      <th>High</th>\n",
       "      <th>Low</th>\n",
       "      <th>Close</th>\n",
       "      <th>gap</th>\n",
       "      <th>lc</th>\n",
       "      <th>gap_per</th>\n",
       "      <th>weekly_ret</th>\n",
       "      <th>weekly_ret_offset</th>\n",
       "      <th>quat_ret</th>\n",
       "      <th>dgap_rec</th>\n",
       "      <th>ugap_rec</th>\n",
       "      <th>ugap_excess</th>\n",
       "      <th>dgap_excess</th>\n",
       "    </tr>\n",
       "    <tr>\n",
       "      <th>date</th>\n",
       "      <th></th>\n",
       "      <th></th>\n",
       "      <th></th>\n",
       "      <th></th>\n",
       "      <th></th>\n",
       "      <th></th>\n",
       "      <th></th>\n",
       "      <th></th>\n",
       "      <th></th>\n",
       "      <th></th>\n",
       "      <th></th>\n",
       "      <th></th>\n",
       "      <th></th>\n",
       "      <th></th>\n",
       "    </tr>\n",
       "  </thead>\n",
       "  <tbody>\n",
       "    <tr>\n",
       "      <th>2005-06-12</th>\n",
       "      <td>3659.80</td>\n",
       "      <td>3665.80</td>\n",
       "      <td>3585.80</td>\n",
       "      <td>3593.55</td>\n",
       "      <td>0</td>\n",
       "      <td>NaN</td>\n",
       "      <td>NaN</td>\n",
       "      <td>NaN</td>\n",
       "      <td>0.000626</td>\n",
       "      <td>NaN</td>\n",
       "      <td>NaN</td>\n",
       "      <td>NaN</td>\n",
       "      <td>NaN</td>\n",
       "      <td>NaN</td>\n",
       "    </tr>\n",
       "    <tr>\n",
       "      <th>2005-06-19</th>\n",
       "      <td>3593.90</td>\n",
       "      <td>3703.75</td>\n",
       "      <td>3556.70</td>\n",
       "      <td>3595.80</td>\n",
       "      <td>1</td>\n",
       "      <td>3593.55</td>\n",
       "      <td>0.000097</td>\n",
       "      <td>0.000626</td>\n",
       "      <td>0.000917</td>\n",
       "      <td>NaN</td>\n",
       "      <td>NaN</td>\n",
       "      <td>1.0</td>\n",
       "      <td>0.010307</td>\n",
       "      <td>NaN</td>\n",
       "    </tr>\n",
       "    <tr>\n",
       "      <th>2005-06-26</th>\n",
       "      <td>3600.90</td>\n",
       "      <td>3627.85</td>\n",
       "      <td>3518.95</td>\n",
       "      <td>3599.10</td>\n",
       "      <td>1</td>\n",
       "      <td>3595.80</td>\n",
       "      <td>0.001418</td>\n",
       "      <td>0.000917</td>\n",
       "      <td>0.021930</td>\n",
       "      <td>NaN</td>\n",
       "      <td>NaN</td>\n",
       "      <td>1.0</td>\n",
       "      <td>0.021604</td>\n",
       "      <td>NaN</td>\n",
       "    </tr>\n",
       "    <tr>\n",
       "      <th>2005-07-03</th>\n",
       "      <td>3599.00</td>\n",
       "      <td>3704.35</td>\n",
       "      <td>3542.40</td>\n",
       "      <td>3678.90</td>\n",
       "      <td>-1</td>\n",
       "      <td>3599.10</td>\n",
       "      <td>-0.000028</td>\n",
       "      <td>0.021930</td>\n",
       "      <td>0.025045</td>\n",
       "      <td>NaN</td>\n",
       "      <td>1.0</td>\n",
       "      <td>NaN</td>\n",
       "      <td>NaN</td>\n",
       "      <td>0.028824</td>\n",
       "    </tr>\n",
       "    <tr>\n",
       "      <th>2005-07-10</th>\n",
       "      <td>3684.05</td>\n",
       "      <td>3796.90</td>\n",
       "      <td>3646.95</td>\n",
       "      <td>3772.20</td>\n",
       "      <td>1</td>\n",
       "      <td>3678.90</td>\n",
       "      <td>0.001400</td>\n",
       "      <td>0.025045</td>\n",
       "      <td>0.016472</td>\n",
       "      <td>NaN</td>\n",
       "      <td>NaN</td>\n",
       "      <td>1.0</td>\n",
       "      <td>0.008723</td>\n",
       "      <td>NaN</td>\n",
       "    </tr>\n",
       "    <tr>\n",
       "      <th>...</th>\n",
       "      <td>...</td>\n",
       "      <td>...</td>\n",
       "      <td>...</td>\n",
       "      <td>...</td>\n",
       "      <td>...</td>\n",
       "      <td>...</td>\n",
       "      <td>...</td>\n",
       "      <td>...</td>\n",
       "      <td>...</td>\n",
       "      <td>...</td>\n",
       "      <td>...</td>\n",
       "      <td>...</td>\n",
       "      <td>...</td>\n",
       "      <td>...</td>\n",
       "    </tr>\n",
       "    <tr>\n",
       "      <th>2023-09-03</th>\n",
       "      <td>44253.65</td>\n",
       "      <td>44779.65</td>\n",
       "      <td>43830.75</td>\n",
       "      <td>44436.10</td>\n",
       "      <td>1</td>\n",
       "      <td>44231.45</td>\n",
       "      <td>0.000502</td>\n",
       "      <td>0.004616</td>\n",
       "      <td>0.016080</td>\n",
       "      <td>0.235166</td>\n",
       "      <td>NaN</td>\n",
       "      <td>1.0</td>\n",
       "      <td>0.009100</td>\n",
       "      <td>NaN</td>\n",
       "    </tr>\n",
       "    <tr>\n",
       "      <th>2023-09-10</th>\n",
       "      <td>44647.65</td>\n",
       "      <td>45383.35</td>\n",
       "      <td>44207.25</td>\n",
       "      <td>45156.40</td>\n",
       "      <td>1</td>\n",
       "      <td>44436.10</td>\n",
       "      <td>0.004761</td>\n",
       "      <td>0.016080</td>\n",
       "      <td>0.023529</td>\n",
       "      <td>0.263892</td>\n",
       "      <td>NaN</td>\n",
       "      <td>1.0</td>\n",
       "      <td>0.005163</td>\n",
       "      <td>NaN</td>\n",
       "    </tr>\n",
       "    <tr>\n",
       "      <th>2023-09-17</th>\n",
       "      <td>45340.80</td>\n",
       "      <td>46310.40</td>\n",
       "      <td>45231.30</td>\n",
       "      <td>46231.50</td>\n",
       "      <td>1</td>\n",
       "      <td>45156.40</td>\n",
       "      <td>0.004084</td>\n",
       "      <td>0.023529</td>\n",
       "      <td>-0.035657</td>\n",
       "      <td>0.229824</td>\n",
       "      <td>NaN</td>\n",
       "      <td>0.0</td>\n",
       "      <td>NaN</td>\n",
       "      <td>NaN</td>\n",
       "    </tr>\n",
       "    <tr>\n",
       "      <th>2023-09-24</th>\n",
       "      <td>46100.95</td>\n",
       "      <td>46252.95</td>\n",
       "      <td>44548.90</td>\n",
       "      <td>44612.05</td>\n",
       "      <td>-1</td>\n",
       "      <td>46231.50</td>\n",
       "      <td>-0.002824</td>\n",
       "      <td>-0.035657</td>\n",
       "      <td>-0.000533</td>\n",
       "      <td>0.173892</td>\n",
       "      <td>1.0</td>\n",
       "      <td>NaN</td>\n",
       "      <td>NaN</td>\n",
       "      <td>0.000464</td>\n",
       "    </tr>\n",
       "    <tr>\n",
       "      <th>2023-10-01</th>\n",
       "      <td>44615.00</td>\n",
       "      <td>44936.55</td>\n",
       "      <td>44182.50</td>\n",
       "      <td>44588.30</td>\n",
       "      <td>1</td>\n",
       "      <td>44612.05</td>\n",
       "      <td>0.000066</td>\n",
       "      <td>-0.000533</td>\n",
       "      <td>NaN</td>\n",
       "      <td>0.161977</td>\n",
       "      <td>NaN</td>\n",
       "      <td>1.0</td>\n",
       "      <td>0.009675</td>\n",
       "      <td>NaN</td>\n",
       "    </tr>\n",
       "  </tbody>\n",
       "</table>\n",
       "<p>954 rows × 14 columns</p>\n",
       "</div>"
      ],
      "text/plain": [
       "                Open      High       Low     Close  gap        lc   gap_per  \\\n",
       "date                                                                          \n",
       "2005-06-12   3659.80   3665.80   3585.80   3593.55    0       NaN       NaN   \n",
       "2005-06-19   3593.90   3703.75   3556.70   3595.80    1   3593.55  0.000097   \n",
       "2005-06-26   3600.90   3627.85   3518.95   3599.10    1   3595.80  0.001418   \n",
       "2005-07-03   3599.00   3704.35   3542.40   3678.90   -1   3599.10 -0.000028   \n",
       "2005-07-10   3684.05   3796.90   3646.95   3772.20    1   3678.90  0.001400   \n",
       "...              ...       ...       ...       ...  ...       ...       ...   \n",
       "2023-09-03  44253.65  44779.65  43830.75  44436.10    1  44231.45  0.000502   \n",
       "2023-09-10  44647.65  45383.35  44207.25  45156.40    1  44436.10  0.004761   \n",
       "2023-09-17  45340.80  46310.40  45231.30  46231.50    1  45156.40  0.004084   \n",
       "2023-09-24  46100.95  46252.95  44548.90  44612.05   -1  46231.50 -0.002824   \n",
       "2023-10-01  44615.00  44936.55  44182.50  44588.30    1  44612.05  0.000066   \n",
       "\n",
       "            weekly_ret  weekly_ret_offset  quat_ret  dgap_rec  ugap_rec  \\\n",
       "date                                                                      \n",
       "2005-06-12         NaN           0.000626       NaN       NaN       NaN   \n",
       "2005-06-19    0.000626           0.000917       NaN       NaN       1.0   \n",
       "2005-06-26    0.000917           0.021930       NaN       NaN       1.0   \n",
       "2005-07-03    0.021930           0.025045       NaN       1.0       NaN   \n",
       "2005-07-10    0.025045           0.016472       NaN       NaN       1.0   \n",
       "...                ...                ...       ...       ...       ...   \n",
       "2023-09-03    0.004616           0.016080  0.235166       NaN       1.0   \n",
       "2023-09-10    0.016080           0.023529  0.263892       NaN       1.0   \n",
       "2023-09-17    0.023529          -0.035657  0.229824       NaN       0.0   \n",
       "2023-09-24   -0.035657          -0.000533  0.173892       1.0       NaN   \n",
       "2023-10-01   -0.000533                NaN  0.161977       NaN       1.0   \n",
       "\n",
       "            ugap_excess  dgap_excess  \n",
       "date                                  \n",
       "2005-06-12          NaN          NaN  \n",
       "2005-06-19     0.010307          NaN  \n",
       "2005-06-26     0.021604          NaN  \n",
       "2005-07-03          NaN     0.028824  \n",
       "2005-07-10     0.008723          NaN  \n",
       "...                 ...          ...  \n",
       "2023-09-03     0.009100          NaN  \n",
       "2023-09-10     0.005163          NaN  \n",
       "2023-09-17          NaN          NaN  \n",
       "2023-09-24          NaN     0.000464  \n",
       "2023-10-01     0.009675          NaN  \n",
       "\n",
       "[954 rows x 14 columns]"
      ]
     },
     "execution_count": 3184,
     "metadata": {},
     "output_type": "execute_result"
    }
   ],
   "source": [
    "hd1"
   ]
  },
  {
   "cell_type": "code",
   "execution_count": 3185,
   "id": "479ab456",
   "metadata": {},
   "outputs": [],
   "source": [
    "#Calculating weekly returns with offset \n",
    "hd1['weekly_ret_shift'] = hd1['weekly_ret'].shift()"
   ]
  },
  {
   "cell_type": "code",
   "execution_count": 3186,
   "id": "b1831e35",
   "metadata": {},
   "outputs": [],
   "source": [
    "# Computing percentage by which the gap were NOT filled(Current High - Current Opened)  (<) (Previous Close -  Current Open). If LHS > RHS, the gap is NOT filled.\n",
    "#lack_dgap,rec = log(Previous Close / Current High) \n",
    "hd1['lack_dgap_rec'] =  np.where(hd1['gap']==-1, np.where(hd1['High']-hd1['Open'] < hd1['Close'].shift() - hd1['Open'],np.log(hd1['Close'].shift()/hd1['High']),np.NaN),np.NaN)\n"
   ]
  },
  {
   "cell_type": "code",
   "execution_count": 3187,
   "id": "6db064ac",
   "metadata": {},
   "outputs": [],
   "source": [
    "# Computing percentage by which the gap were NOT filled(Current open - Current Low)  (<) (Current Open - Previous Close). If LHS > RHS, the gap is NOT filled\n",
    "#lack_ugap,rec = log(Previous Close / Current Low) \n",
    "\n",
    "hd1['lack_ugap_rec'] =  np.where(hd1['gap']==1,  np.where(hd1['Open']-hd1['Low'] < hd1['Open'] - hd1['Close'].shift(),np.log(hd1['Low']/hd1['Close'].shift()),np.NaN),np.NaN)"
   ]
  },
  {
   "cell_type": "markdown",
   "id": "21ca0ccc",
   "metadata": {},
   "source": [
    "### Up Lack Recovery analysis"
   ]
  },
  {
   "cell_type": "code",
   "execution_count": null,
   "id": "2972940f",
   "metadata": {},
   "outputs": [],
   "source": []
  },
  {
   "cell_type": "code",
   "execution_count": 3188,
   "id": "91d2b15b",
   "metadata": {},
   "outputs": [],
   "source": [
    "# Create a new column 'Label' based on the values in the 'gap_per' column\n",
    "# The 'pd.cut' function is used to create categorical labels based on specified bins\n",
    "hd1['Label'] = pd.cut(x=hd1['gap_per'],\n",
    "                     bins=[ 0, 0.005,.01,.05],\n",
    "                     labels=[ 'Gap_per: 0 to .005','Gap_per: .005 to .01','Gap_per: .01 to .05',])"
   ]
  },
  {
   "cell_type": "code",
   "execution_count": 3189,
   "id": "69a6b93d",
   "metadata": {
    "scrolled": false
   },
   "outputs": [
    {
     "data": {
      "text/plain": [
       "array([[<AxesSubplot:title={'center':'Gap_per: 0 to .005'}>,\n",
       "        <AxesSubplot:title={'center':'Gap_per: .005 to .01'}>],\n",
       "       [<AxesSubplot:title={'center':'Gap_per: .01 to .05'}>,\n",
       "        <AxesSubplot:>]], dtype=object)"
      ]
     },
     "execution_count": 3189,
     "metadata": {},
     "output_type": "execute_result"
    },
    {
     "data": {
      "image/png": "[encoded data removed]",
      "text/plain": [
       "<Figure size 1440x1296 with 4 Axes>"
      ]
     },
     "metadata": {
      "needs_background": "light"
     },
     "output_type": "display_data"
    }
   ],
   "source": [
    "#Plotting Up gap's with different intervals and their percentage by which the gap were NOT filled()\n",
    "pivot3 = pd.pivot_table(data=hd1, index=['gap_per'], columns=['Label'], values='lack_ugap_rec')\n",
    "\n",
    "pivot3.hist(figsize = (20,18), color = ('green'), linewidth=3, edgecolor = 'black' )"
   ]
  },
  {
   "cell_type": "markdown",
   "id": "c6dff5b7",
   "metadata": {},
   "source": [
    "### Down Lack Recovery analysis"
   ]
  },
  {
   "cell_type": "code",
   "execution_count": 3190,
   "id": "c2ffeb6c",
   "metadata": {},
   "outputs": [],
   "source": [
    "#Creating bins and defining labels for gap up opens\n",
    "hd1['Label2'] = pd.cut(x=hd1['gap_per'],\n",
    "                     bins=[-.05,-0.01,-0.005, 0],\n",
    "                     labels=['Gap_per: -0.05 to -.01','Gap_per: -1 to -.005','Gap_per: -0.005 to 0'])"
   ]
  },
  {
   "cell_type": "code",
   "execution_count": 3191,
   "id": "ceb75f3b",
   "metadata": {
    "scrolled": true
   },
   "outputs": [
    {
     "data": {
      "text/plain": [
       "array([[<AxesSubplot:title={'center':'Gap_per: -0.05 to -.01'}>,\n",
       "        <AxesSubplot:title={'center':'Gap_per: -1 to -.005'}>],\n",
       "       [<AxesSubplot:title={'center':'Gap_per: -0.005 to 0'}>,\n",
       "        <AxesSubplot:>]], dtype=object)"
      ]
     },
     "execution_count": 3191,
     "metadata": {},
     "output_type": "execute_result"
    },
    {
     "data": {
      "image/png": "[encoded data removed]",
      "text/plain": [
       "<Figure size 1440x1296 with 4 Axes>"
      ]
     },
     "metadata": {
      "needs_background": "light"
     },
     "output_type": "display_data"
    }
   ],
   "source": [
    "#Plotting Down gap's with different intervals and their percentage by which the gap were not filled\n",
    "# Generate a histogram plot of the pivot table\n",
    "#By using class intervals on gap_percentage, and plotting frequencies of DGAP_EXCESS data\n",
    "pivot9 = pd.pivot_table(data=hd1, index=['gap_per'], columns=['Label2'], values='lack_dgap_rec')\n",
    "pivot9.hist(figsize = (20,18), color = ('red'), linewidth=3, edgecolor = 'black')\n"
   ]
  },
  {
   "cell_type": "code",
   "execution_count": null,
   "id": "29ec5a50",
   "metadata": {},
   "outputs": [],
   "source": []
  },
  {
   "cell_type": "code",
   "execution_count": null,
   "id": "8d3707f9",
   "metadata": {},
   "outputs": [],
   "source": []
  },
  {
   "cell_type": "markdown",
   "id": "15320d80",
   "metadata": {},
   "source": [
    "### Up gap Excess analysis###"
   ]
  },
  {
   "cell_type": "code",
   "execution_count": 3192,
   "id": "6be451e2",
   "metadata": {
    "scrolled": false
   },
   "outputs": [
    {
     "data": {
      "text/plain": [
       "array([[<AxesSubplot:title={'center':'Gap_per: 0 to .005'}>,\n",
       "        <AxesSubplot:title={'center':'Gap_per: .005 to .01'}>],\n",
       "       [<AxesSubplot:title={'center':'Gap_per: .01 to .05'}>,\n",
       "        <AxesSubplot:>]], dtype=object)"
      ]
     },
     "execution_count": 3192,
     "metadata": {},
     "output_type": "execute_result"
    },
    {
     "data": {
      "image/png": "[encoded data removed]",
      "text/plain": [
       "<Figure size 1440x1296 with 4 Axes>"
      ]
     },
     "metadata": {
      "needs_background": "light"
     },
     "output_type": "display_data"
    }
   ],
   "source": [
    "#Plotting Up gap's with different intervals and their excess returns after gap fill\n",
    "# Generate a histogram plot of the pivot table\n",
    "#By using class intervals on gap_percentage, and plotting frequencies of UGAP_EXCESS data\n",
    "\n",
    "pivot1 = pd.pivot_table(data=hd1, index=['gap_per'], columns=['Label'], values='ugap_excess')\n",
    "\n",
    "pivot1.hist(figsize = (20,18), color = ('olive'), linewidth=3, edgecolor = 'black')\n",
    "\n"
   ]
  },
  {
   "cell_type": "markdown",
   "id": "a1970116",
   "metadata": {},
   "source": [
    "# Up Gap Excess Detailed probabilities\n",
    "print('Up Gap Excess Detailed probabilities')\n",
    "print(\"aaa = gap_per & bbb = ugap_excess\")"
   ]
  },
  {
   "cell_type": "code",
   "execution_count": 3193,
   "id": "9192ad37",
   "metadata": {},
   "outputs": [
    {
     "data": {
      "text/plain": [
       "count    953.000000\n",
       "mean       0.001065\n",
       "std        0.011733\n",
       "min       -0.162642\n",
       "25%       -0.002230\n",
       "50%        0.001312\n",
       "75%        0.004793\n",
       "max        0.106970\n",
       "Name: gap_per, dtype: float64"
      ]
     },
     "execution_count": 3193,
     "metadata": {},
     "output_type": "execute_result"
    }
   ],
   "source": [
    "hd1['gap_per'].describe()"
   ]
  },
  {
   "cell_type": "code",
   "execution_count": 3194,
   "id": "1a3ac68b",
   "metadata": {
    "scrolled": false
   },
   "outputs": [
    {
     "name": "stdout",
     "output_type": "stream",
     "text": [
      "Up Gap Excess Detailed probabilities\n",
      "aa = gap_per & bb = ugap_excess\n"
     ]
    },
    {
     "data": {
      "image/png": "[encoded data removed]",
      "text/plain": [
       "<Figure size 1080x720 with 20 Axes>"
      ]
     },
     "metadata": {},
     "output_type": "display_data"
    }
   ],
   "source": [
    "print('Up Gap Excess Detailed probabilities')\n",
    "time.sleep(0)\n",
    "print(\"aa = gap_per & bb = ugap_excess\")\n",
    "\n",
    "aa = [0.00001, 0.0025, 0.005, 0.01,.9]\n",
    "bb = [0.005, 0.01, 0.02, 0.05,.9]\n",
    "# Initialize an empty list to store heatmaps\n",
    "heatmaps = []\n",
    "\n",
    "# Initialize a list to store subplot titles\n",
    "titles = []\n",
    "\n",
    "# Initialize a dictionary to store the btotal bcount for each 'aa' range\n",
    "btotal_bcounts = {}\n",
    "\n",
    "# Nested loops to iterate through each pair of adjacent 'aa' values\n",
    "for i in range(len(aa) - 1):\n",
    "    lower_aa = aa[i]\n",
    "    upper_aa = aa[i + 1]\n",
    "    \n",
    "    # Calculate the bcount for the current 'aa' range\n",
    "    bcount_aa_range = ((hd1['gap_per'] >= lower_aa) & (hd1['gap_per'] < upper_aa)&(hd1['ugap_rec']==1)).sum()\n",
    "    \n",
    "    # Store the btotal bcount in the dictionary\n",
    "    btotal_bcounts[(lower_aa, upper_aa)] = bcount_aa_range\n",
    "    \n",
    "    for bb_val in bb:\n",
    "        # Create a blabel for the current combination\n",
    "        blabel = (hd1['gap_per'] >= lower_aa) & (hd1['gap_per'] < upper_aa) & (hd1['ugap_excess'] < bb_val )\n",
    "        \n",
    "        # Convert the blabel to a bbinary matrix\n",
    "        bbinary_matrix = blabel.to_numpy().reshape(hd1.shape[0], 1)\n",
    "        \n",
    "        # Append the bbinary matrix to the list of heatmaps\n",
    "        heatmaps.append(bbinary_matrix)\n",
    "        \n",
    "        # Generate a subplot title with frequency, bpercentage, and bcount\n",
    "        bcount = np.sum(blabel)\n",
    "        btotal = btotal_bcounts[(lower_aa, upper_aa)]\n",
    "        bpercentage = (bcount / btotal) * 100\n",
    "        titles.append(f'{lower_aa} <= gap_per < {upper_aa}\\n excess < {bb_val}\\nCount: {bcount} ({bpercentage:.2f}% Total {btotal})')\n",
    "\n",
    "# Plot heatmaps for all combinations of 'aa' and 'bb'\n",
    "fig, axes = plt.subplots(len(aa) - 1, len(bb), figsize=(15, 10))\n",
    "\n",
    "for i in range(len(aa) - 1):\n",
    "    for j in range(len(bb)):\n",
    "        ax = axes[i, j]\n",
    "        heatmap = heatmaps[i * len(bb) + j]\n",
    "        ax.imshow(heatmap, cmap='coolwarm', aspect='auto', interpolation='nearest')\n",
    "        ax.set_xticks([])\n",
    "        ax.set_yticks([])\n",
    "        ax.set_title(titles[i * len(bb) + j], fontsize=12)\n",
    "\n",
    "plt.tight_layout()\n",
    "plt.show()\n"
   ]
  },
  {
   "cell_type": "markdown",
   "id": "86ca486a",
   "metadata": {},
   "source": [
    "Looking at these plots, we get a sense of probabilistis behaviour between Gap_percentage and excess returns.\n",
    "Now events with high probabilities can help take decisions and make structure around to achieve edge.\n",
    "On the flip side the events with less probabilities can be used to check the rarity of it and take decisions accordingly.\n",
    "\n",
    "These different excess densities in or within the range of certain classes really helps in understanding past behaviour and expecting future behaviour to follow these boundries of excess given the gap percent range in market.\n",
    "\n",
    "\n",
    "## from Up Gap Excess Detailed probabilities\n",
    "\n",
    "         1)We know that if there is a Up Gap, % of times the price will fill the gap and go further by .005,from the Previous Close(the starting point of the gap)\n",
    "         2)We know that if there is a Up Gap > 0.01 (more than 0.01%), there is only 16.67% chance the price in that period will stay within .05% recovery, the Gap will be acting like a Ressistance level.\n",
    "         3)Various conclusion can be drawn by combinations of each excess within one or multiple gap per ranges.\n",
    " "
   ]
  },
  {
   "cell_type": "code",
   "execution_count": 3195,
   "id": "708e3403",
   "metadata": {},
   "outputs": [
    {
     "name": "stdout",
     "output_type": "stream",
     "text": [
      "Up Gap Excess Detailed probabilities\n",
      "aa = gap_per & bb = ugap_excess\n"
     ]
    },
    {
     "data": {
      "image/png": "[encoded data removed]",
      "text/plain": [
       "<Figure size 864x576 with 1 Axes>"
      ]
     },
     "metadata": {
      "needs_background": "light"
     },
     "output_type": "display_data"
    }
   ],
   "source": [
    "\n",
    "\n",
    "print('Up Gap Excess Detailed probabilities')\n",
    "time.sleep(0)\n",
    "print(\"aa = gap_per & bb = ugap_excess\")\n",
    "\n",
    "aa = [0.00001, 0.0025, 0.005, 0.01, 0.9]\n",
    "bb = [0.005, 0.01, 0.02, 0.05, 0.9]\n",
    "\n",
    "# Initialize lists to store data for the stacked bar chart\n",
    "categories = [f'{lower_aa} >= gap_per > {upper_aa}' for lower_aa, upper_aa in zip(aa[:-1], aa[1:])]\n",
    "counts_list = []\n",
    "\n",
    "# Nested loops to iterate through each pair of adjacent 'aa' values\n",
    "for i in range(len(aa) - 1):\n",
    "    lower_aa = aa[i]\n",
    "    upper_aa = aa[i + 1]\n",
    "\n",
    "    # Initialize a list to store counts for different 'bb' values in the current 'aa' range\n",
    "    counts_aa_range = []\n",
    "\n",
    "    for bb_val in bb:\n",
    "        # Create a label for the current combination\n",
    "        label = (hd1['gap_per'] >= lower_aa) & (hd1['gap_per'] < upper_aa) & (hd1['ugap_excess'] < bb_val)\n",
    "\n",
    "        # Calculate the count for the current combination\n",
    "        count = np.sum(label)\n",
    "        \n",
    "        # Append the count to the list for the current 'aa' range\n",
    "        counts_aa_range.append(count)\n",
    "    \n",
    "    # Append the list of counts for the current 'aa' range to the main list\n",
    "    counts_list.append(counts_aa_range)\n",
    "\n",
    "# Create a stacked bar chart\n",
    "fig, ax = plt.subplots(figsize=(12, 8))\n",
    "\n",
    "# Convert counts_list to a NumPy array for plotting\n",
    "counts_array = np.array(counts_list)\n",
    "\n",
    "# Create a bottom for stacking\n",
    "bottom = np.zeros(len(categories))\n",
    "\n",
    "for i in range(len(bb)):\n",
    "    counts = counts_array[:, i]\n",
    "    ax.bar(categories, counts, label=f'bb = {bb[i]}', bottom=bottom)\n",
    "    \n",
    "    # Calculate and add percentage labels on top of each bar\n",
    "    total_counts = counts_array.sum(axis=1)\n",
    "    percentages = (counts / total_counts) * 100\n",
    "    for j, count in enumerate(counts):\n",
    "        ax.text(categories[j], bottom[j] + count / 2, f'{count} ({percentages[j]:.2f}%)', ha='center', va='center')\n",
    "    \n",
    "    bottom += counts\n",
    "\n",
    "ax.set_xlabel('Conditions')\n",
    "ax.set_ylabel('Count')\n",
    "ax.set_title('Stacked Bar Chart of Count and Percentage for Different Conditions')\n",
    "ax.legend(title='bb Value', loc='upper right')\n",
    "plt.xticks(rotation=45, ha=\"right\")\n",
    "\n",
    "plt.tight_layout()\n",
    "plt.show()\n"
   ]
  },
  {
   "cell_type": "markdown",
   "id": "105c8924",
   "metadata": {},
   "source": [
    "Looking at these plots, we get a sense of probabilistis behaviour between Gap_percentage and excess returns\n",
    "Now events with high probabilities can help take decisions and make structure around to achieve edge\n",
    "On the flip side the events with less probabilities can be used to check the rarity of it and take decisions accordingly\n",
    "\n",
    "\n",
    "## from Up Gap Excess Detailed probabilities\n",
    "\n",
    "         1)We know that if there is a Up Gap, 41% of times the price will fill the gap and go further by .005,from the Previous Close(the starting point of the gap)\n",
    "         2)We know that if there is a Up Gap > 0.01% (more than 0.01%), there is only 0.83% chance the price in that period will cross the .05% recovery, acting like a Support level\n",
    " "
   ]
  },
  {
   "cell_type": "markdown",
   "id": "0d37b35f",
   "metadata": {},
   "source": [
    "# Down Gap Excess Detailed probabilities\n"
   ]
  },
  {
   "cell_type": "code",
   "execution_count": 3196,
   "id": "e453881d",
   "metadata": {},
   "outputs": [],
   "source": [
    "#Creating bins and defining labels for gap up opens\n",
    "hd1['Label2'] = pd.cut(x=hd1['gap_per'],\n",
    "                     bins=[-.05,-0.01,-0.005, 0],\n",
    "                     labels=['Gap_per: -.05 to -.01','Gap_per: -1 to -.005','Gap_per: -.005 to 0'])"
   ]
  },
  {
   "cell_type": "code",
   "execution_count": 3197,
   "id": "6488e385",
   "metadata": {
    "scrolled": false
   },
   "outputs": [
    {
     "data": {
      "text/plain": [
       "array([[<AxesSubplot:title={'center':'Gap_per: -.05 to -.01'}>,\n",
       "        <AxesSubplot:title={'center':'Gap_per: -1 to -.005'}>],\n",
       "       [<AxesSubplot:title={'center':'Gap_per: -.005 to 0'}>,\n",
       "        <AxesSubplot:>]], dtype=object)"
      ]
     },
     "execution_count": 3197,
     "metadata": {},
     "output_type": "execute_result"
    },
    {
     "data": {
      "image/png": "[encoded data removed]",
      "text/plain": [
       "<Figure size 1440x1296 with 4 Axes>"
      ]
     },
     "metadata": {
      "needs_background": "light"
     },
     "output_type": "display_data"
    }
   ],
   "source": [
    "#Plotting Down gap's with different intervals and their excess returns after gap fill\n",
    "# Generate a histogram plot of the pivot table\n",
    "#By using class intervals on gap_percentage, and plotting frequencies of DGAP_EXCESS data\n",
    "pivot2 = pd.pivot_table(data=hd1, index=['gap_per'], columns=['Label2'], values='dgap_excess')\n",
    "pivot2.hist(figsize = (20,18), color = ('tomato'), linewidth=3, edgecolor = 'black')\n"
   ]
  },
  {
   "cell_type": "markdown",
   "id": "37e5f3ea",
   "metadata": {},
   "source": []
  },
  {
   "cell_type": "code",
   "execution_count": 3198,
   "id": "94bd5532",
   "metadata": {},
   "outputs": [
    {
     "data": {
      "text/plain": [
       "count    272.000000\n",
       "mean       0.025415\n",
       "std        0.023458\n",
       "min        0.000218\n",
       "25%        0.010110\n",
       "50%        0.019028\n",
       "75%        0.033194\n",
       "max        0.170617\n",
       "Name: dgap_excess, dtype: float64"
      ]
     },
     "execution_count": 3198,
     "metadata": {},
     "output_type": "execute_result"
    }
   ],
   "source": [
    "hd1['dgap_excess'].describe()"
   ]
  },
  {
   "cell_type": "code",
   "execution_count": 3199,
   "id": "5b5d53c0",
   "metadata": {
    "scrolled": false
   },
   "outputs": [
    {
     "data": {
      "image/png": "[encoded data removed]",
      "text/plain": [
       "<Figure size 1080x720 with 20 Axes>"
      ]
     },
     "metadata": {},
     "output_type": "display_data"
    }
   ],
   "source": [
    "aaa = [-0.00001, -0.0025, -0.005, -0.01,-.9]\n",
    "bbb = [0.005, 0.01, 0.02, 0.05,.9]\n",
    "# Initialize an empty list to store heatmaps\n",
    "heatmaps = []\n",
    "\n",
    "# Initialize a list to store subplot titles\n",
    "titles = []\n",
    "\n",
    "# Initialize a dictionary to store the total count for each 'aaaa' range\n",
    "total_counts = {}\n",
    "\n",
    "# Nested loops to iterate through each pair of adjacent 'aaaa' values\n",
    "for i in range(len(aaa) - 1):\n",
    "    lower_aaa = aaa[i]\n",
    "    upper_aaa = aaa[i + 1]\n",
    "    \n",
    "    # Calculate the count for the current 'aaaa' range\n",
    "    count_aaa_range = ((hd1['gap_per'] <= lower_aaa) & (hd1['gap_per'] > upper_aaa)&(hd1['dgap_rec']==1)).sum()\n",
    "    \n",
    "    # Store the total count in the dictionary\n",
    "    total_counts[(lower_aaa, upper_aaa)] = count_aaa_range\n",
    "    \n",
    "    for bbb_val in bbb:\n",
    "        # Create a label for the current combination\n",
    "        label = (hd1['gap_per'] <= lower_aaa) & (hd1['gap_per'] > upper_aaa) & (hd1['dgap_excess'] < bbb_val )\n",
    "        \n",
    "        # Convert the label to a binary matrix\n",
    "        binary_matrix = label.to_numpy().reshape(hd1.shape[0], 1)\n",
    "        \n",
    "        # Append the binary matrix to the list of heatmaps\n",
    "        heatmaps.append(binary_matrix)\n",
    "        \n",
    "        # Generate a subplot title with frequency, percentage, and count\n",
    "        count = np.sum(label)\n",
    "        total = total_counts[(lower_aaa, upper_aaa)]\n",
    "        percentage = (count / total) * 100\n",
    "        titles.append(f'{lower_aaa} >= gap_per > {upper_aaa}\\n excess < {bbb_val}\\nCount: {count} ({percentage:.2f}% Total {total})')\n",
    "\n",
    "# Plot heatmaps for all combinations of 'aaaa' and 'bbb'\n",
    "fig, axes = plt.subplots(len(aaa) - 1, len(bbb), figsize=(15, 10))\n",
    "\n",
    "for i in range(len(aaa) - 1):\n",
    "    for j in range(len(bbb)):\n",
    "        ax = axes[i, j]\n",
    "        heatmap = heatmaps[i * len(bbb) + j]\n",
    "        ax.imshow(heatmap, cmap='coolwarm', aspect='auto', interpolation='nearest')\n",
    "        ax.set_xticks([])\n",
    "        ax.set_yticks([])\n",
    "        ax.set_title(titles[i * len(bbb) + j], fontsize=12)\n",
    "\n",
    "plt.tight_layout()\n",
    "plt.show()\n",
    "\n"
   ]
  },
  {
   "cell_type": "markdown",
   "id": "e86eb807",
   "metadata": {},
   "source": [
    "Looking at these plots, we get a sense of probabilistis behaviour between Gap_percentage and excess returns.\n",
    "Now events with high probabilities can help take decisions and make structure around to achieve edge.\n",
    "On the flip side the events with less probabilities can be used to check the rarity of it and take decisions accordingly.\n",
    "\n",
    "These different excess densities in or within the range of certain classes really helps in understanding past behaviour and expecting future behaviour to follow these boundries of excess given the gap percent range in market.\n",
    "\n",
    "\n",
    "## from Down Gap Excess Detailed probabilities\n",
    "\n",
    "          1)We know that if there is a Down Gap, % of times the price will fill the gap and go further by .005,from the Previous Close(the starting point of the gap)\n",
    "          2)We know that if there is a Down Gap < 0 & Down gap > -.0025 (more than -0.0025%), there is only 11.54% chance the price in that period will stay within .05% recovery, the Gap will be acting like a Ressistance level.\n",
    "         3)Various conclusion can be drawn by combinations of each excess within one or multiple gap per ranges.\n",
    " "
   ]
  },
  {
   "cell_type": "code",
   "execution_count": 3200,
   "id": "ffc3b5c6",
   "metadata": {
    "scrolled": false
   },
   "outputs": [
    {
     "name": "stdout",
     "output_type": "stream",
     "text": [
      "Down Gap Excess Detailed probabilities\n",
      "aa = gap_per & bb = ugap_excess\n"
     ]
    },
    {
     "data": {
      "image/png": "[encoded data removed]",
      "text/plain": [
       "<Figure size 864x576 with 1 Axes>"
      ]
     },
     "metadata": {
      "needs_background": "light"
     },
     "output_type": "display_data"
    }
   ],
   "source": [
    "\n",
    "\n",
    "print('Down Gap Excess Detailed probabilities')\n",
    "time.sleep(0)\n",
    "print(\"aa = gap_per & bb = ugap_excess\")\n",
    "\n",
    "aa = [-0.00001, -0.0025, -0.005, -0.01,-.1]\n",
    "bb = [0.005, 0.01, 0.02, 0.05, 0.9]\n",
    "\n",
    "# Initialize lists to store data for the stacked bar chart\n",
    "categories = [f'{lower_aa} >= gap_per > {upper_aa}' for lower_aa, upper_aa in zip(aa[:-1], aa[1:])]\n",
    "counts_list = []\n",
    "\n",
    "# Nested loops to iterate through each pair of adjacent 'aa' values\n",
    "for i in range(len(aa) - 1):\n",
    "    lower_aa = aa[i]\n",
    "    upper_aa = aa[i + 1]\n",
    "\n",
    "    # Initialize a list to store counts for different 'bb' values in the current 'aa' range\n",
    "    counts_aa_range = []\n",
    "\n",
    "    for bb_val in bb:\n",
    "        # Create a label for the current combination\n",
    "        label = (hd1['gap_per'] <= lower_aa) & (hd1['gap_per'] > upper_aa) & (hd1['dgap_excess'] < bb_val)\n",
    "\n",
    "        # Calculate the count for the current combination\n",
    "        count = np.sum(label)\n",
    "        \n",
    "        # Append the count to the list for the current 'aa' range\n",
    "        counts_aa_range.append(count)\n",
    "    \n",
    "    # Append the list of counts for the current 'aa' range to the main list\n",
    "    counts_list.append(counts_aa_range)\n",
    "\n",
    "# Create a stacked bar chart\n",
    "fig, ax = plt.subplots(figsize=(12, 8))\n",
    "\n",
    "# Convert counts_list to a NumPy array for plotting\n",
    "counts_array = np.array(counts_list)\n",
    "\n",
    "# Create a bottom for stacking\n",
    "bottom = np.zeros(len(categories))\n",
    "\n",
    "for i in range(len(bb)):\n",
    "    counts = counts_array[:, i]\n",
    "    ax.bar(categories, counts, label=f'bb = {bb[i]}', bottom=bottom)\n",
    "    \n",
    "    # Calculate and add percentage labels on top of each bar\n",
    "    total_counts = counts_array.sum(axis=1)\n",
    "    percentages = (counts / total_counts) * 100\n",
    "    for j, count in enumerate(counts):\n",
    "        ax.text(categories[j], bottom[j] + count / 2, f'{count} ({percentages[j]:.2f}%)', ha='center', va='center')\n",
    "    \n",
    "    bottom += counts\n",
    "\n",
    "ax.set_xlabel('Gap intervals')\n",
    "ax.set_ylabel('Count')\n",
    "ax.set_title('Stacked Bar Chart of Count and Percentage for Different Conditions')\n",
    "ax.legend(title='Down gap excess ', loc='upper right')\n",
    "plt.xticks(rotation=45, ha=\"right\")\n",
    "\n",
    "plt.tight_layout()\n",
    "plt.show()\n"
   ]
  },
  {
   "cell_type": "markdown",
   "id": "8c529c83",
   "metadata": {},
   "source": []
  },
  {
   "cell_type": "markdown",
   "id": "2dba30b3",
   "metadata": {},
   "source": [
    "# END"
   ]
  },
  {
   "cell_type": "code",
   "execution_count": null,
   "id": "7a2676c6",
   "metadata": {},
   "outputs": [],
   "source": []
  }
 ],
 "metadata": {
  "kernelspec": {
   "display_name": "Python 3 (ipykernel)",
   "language": "python",
   "name": "python3"
  },
  "language_info": {
   "codemirror_mode": {
    "name": "ipython",
    "version": 3
   },
   "file_extension": ".py",
   "mimetype": "text/x-python",
   "name": "python",
   "nbconvert_exporter": "python",
   "pygments_lexer": "ipython3",
   "version": "3.9.7"
  }
 },
 "nbformat": 4,
 "nbformat_minor": 5
}
